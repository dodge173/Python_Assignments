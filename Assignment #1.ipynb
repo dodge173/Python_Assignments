{
 "cells": [
  {
   "cell_type": "code",
   "execution_count": 1,
   "id": "5d9b179d-a85f-45b3-989a-9b6a9828f52f",
   "metadata": {},
   "outputs": [
    {
     "name": "stdout",
     "output_type": "stream",
     "text": [
      "<class 'int'>\n"
     ]
    }
   ],
   "source": [
    "x = 5\n",
    "print(type(x))"
   ]
  },
  {
   "cell_type": "code",
   "execution_count": 3,
   "id": "22578fdc-51fa-4257-a91d-1701a64386d3",
   "metadata": {},
   "outputs": [
    {
     "name": "stdout",
     "output_type": "stream",
     "text": [
      "<class 'str'>\n"
     ]
    }
   ],
   "source": [
    "x = 'Hello World'\n",
    "print(type(x))"
   ]
  },
  {
   "cell_type": "code",
   "execution_count": 4,
   "id": "e61927a1-36b1-43ee-919d-b9a71b5e0bb9",
   "metadata": {},
   "outputs": [
    {
     "name": "stdout",
     "output_type": "stream",
     "text": [
      "<class 'float'>\n"
     ]
    }
   ],
   "source": [
    "x = 20.5\n",
    "print(type(x))"
   ]
  },
  {
   "cell_type": "code",
   "execution_count": 5,
   "id": "47d03964-6f7c-4f8e-8e2d-4f50779848ce",
   "metadata": {},
   "outputs": [
    {
     "name": "stdout",
     "output_type": "stream",
     "text": [
      "<class 'list'>\n"
     ]
    }
   ],
   "source": [
    "x=[\"apple\",\"banana\",\"cherrt\"]\n",
    "print(type(x))"
   ]
  },
  {
   "cell_type": "code",
   "execution_count": 6,
   "id": "2f27860b-c007-48c0-9023-14d0dce296ed",
   "metadata": {},
   "outputs": [
    {
     "name": "stdout",
     "output_type": "stream",
     "text": [
      "<class 'tuple'>\n"
     ]
    }
   ],
   "source": [
    "x=(\"apple\",\"banana\",\"cherry\")\n",
    "print(type(x))"
   ]
  },
  {
   "cell_type": "code",
   "execution_count": 7,
   "id": "4357d7d7-1754-438d-b4ed-7c5fe182d3f7",
   "metadata": {},
   "outputs": [
    {
     "name": "stdout",
     "output_type": "stream",
     "text": [
      "<class 'set'>\n"
     ]
    }
   ],
   "source": [
    "x={\"apple\",\"banana\",\"cherry\"}\n",
    "print(type(x))"
   ]
  },
  {
   "cell_type": "code",
   "execution_count": 9,
   "id": "8bc452b1-928d-49dc-964a-7d7723947d6e",
   "metadata": {},
   "outputs": [
    {
     "name": "stdout",
     "output_type": "stream",
     "text": [
      "<class 'dict'>\n"
     ]
    }
   ],
   "source": [
    "x = {\"name\": \"Ahmad\", \"age\": 27}\n",
    "print(type(x))"
   ]
  },
  {
   "cell_type": "code",
   "execution_count": 11,
   "id": "5c6e00b6-b7f5-4693-ab61-cdf8c0c9ecc5",
   "metadata": {},
   "outputs": [
    {
     "name": "stdout",
     "output_type": "stream",
     "text": [
      "<class 'bool'>\n"
     ]
    }
   ],
   "source": [
    "x = True\n",
    "print(type(x))"
   ]
  },
  {
   "cell_type": "code",
   "execution_count": 16,
   "id": "9e8185a7-0535-4ec7-9585-dd7240efab8c",
   "metadata": {},
   "outputs": [
    {
     "name": "stdout",
     "output_type": "stream",
     "text": [
      "5.0\n"
     ]
    }
   ],
   "source": [
    "x = 5\n",
    "x = float(x)\n",
    "print(x)"
   ]
  },
  {
   "cell_type": "code",
   "execution_count": 17,
   "id": "0337bdb6-0f10-4102-adf1-967babb6110d",
   "metadata": {},
   "outputs": [
    {
     "name": "stdout",
     "output_type": "stream",
     "text": [
      "5\n"
     ]
    }
   ],
   "source": [
    "x = 5.5\n",
    "x=int(x)\n",
    "print(x)"
   ]
  },
  {
   "cell_type": "code",
   "execution_count": 18,
   "id": "e1b6a26a-3921-4211-8d9b-49f4c7a6bf2c",
   "metadata": {},
   "outputs": [
    {
     "name": "stdout",
     "output_type": "stream",
     "text": [
      "11\n"
     ]
    }
   ],
   "source": [
    "x=\"Hello World\"\n",
    "print(len(x))"
   ]
  },
  {
   "cell_type": "code",
   "execution_count": 20,
   "id": "b0e557a1-2c6a-4bd3-a70a-bb1e21b21f0f",
   "metadata": {},
   "outputs": [
    {
     "name": "stdout",
     "output_type": "stream",
     "text": [
      "H\n"
     ]
    }
   ],
   "source": [
    "txt = \"Hello World\"\n",
    "print(txt[0])"
   ]
  },
  {
   "cell_type": "code",
   "execution_count": 27,
   "id": "651ce2f9-2a5c-4277-83d2-1313c6ab5d8d",
   "metadata": {},
   "outputs": [
    {
     "name": "stdout",
     "output_type": "stream",
     "text": [
      " Hello World \n",
      "ell\n"
     ]
    }
   ],
   "source": [
    "txt = ' Hello World '\n",
    "print(txt)\n",
    "print(txt[2:5])"
   ]
  },
  {
   "cell_type": "code",
   "execution_count": 25,
   "id": "998dadc3-7152-485a-afe1-48a4d14d3e44",
   "metadata": {},
   "outputs": [
    {
     "name": "stdout",
     "output_type": "stream",
     "text": [
      "Hello World\n"
     ]
    }
   ],
   "source": [
    "print(txt.strip())"
   ]
  },
  {
   "cell_type": "code",
   "execution_count": 30,
   "id": "b7984e23-1616-4171-b3a3-10ccf4ea7652",
   "metadata": {},
   "outputs": [
    {
     "name": "stdout",
     "output_type": "stream",
     "text": [
      "HELLO WORLD\n"
     ]
    }
   ],
   "source": [
    "txt = 'hello world'\n",
    "print(txt.upper())"
   ]
  },
  {
   "cell_type": "code",
   "execution_count": 31,
   "id": "63d3bc0c-bcef-467b-8ecf-9dd4c6f56c12",
   "metadata": {},
   "outputs": [
    {
     "name": "stdout",
     "output_type": "stream",
     "text": [
      "hello world\n"
     ]
    }
   ],
   "source": [
    "txt = 'HELLO WORLD'\n",
    "print(txt.lower())"
   ]
  },
  {
   "cell_type": "code",
   "execution_count": 32,
   "id": "2c6f2aca-4cca-4fc8-8e3e-ff98aed12c22",
   "metadata": {},
   "outputs": [
    {
     "name": "stdout",
     "output_type": "stream",
     "text": [
      "DELLO WORLD\n"
     ]
    }
   ],
   "source": [
    "print(txt.replace('H','D'))"
   ]
  },
  {
   "cell_type": "code",
   "execution_count": 36,
   "id": "304852fe-fe91-478c-9b17-9f67ae7b4f3f",
   "metadata": {},
   "outputs": [
    {
     "name": "stdout",
     "output_type": "stream",
     "text": [
      "my name is Ahmad, and my age is 27\n"
     ]
    }
   ],
   "source": [
    "age = 27\n",
    "print(f\"my name is Ahmad, and my age is {age}\")"
   ]
  },
  {
   "cell_type": "code",
   "execution_count": 38,
   "id": "06d92398-9a04-48b2-85ed-4956d0706c0c",
   "metadata": {},
   "outputs": [
    {
     "name": "stdout",
     "output_type": "stream",
     "text": [
      " Twinkle, twinkle, Little star, \n",
      "\tHow I wonder what you are! \n",
      "\t\tUp above the world so high\n",
      "\t\tLike a diamond in the sky.\n",
      "Twinkle, twinkle, little star,\n",
      "\tHow I wonder what you are!\n"
     ]
    }
   ],
   "source": [
    "x = exercise 1\n",
    "print(\" Twinkle, twinkle, Little star, \\n\\tHow I wonder what you are! \\n\\t\\tUp above the world so high\\n\\t\\tLike a diamond in the sky.\\nTwinkle, twinkle, little star,\\n\\tHow I wonder what you are!\")\n"
   ]
  },
  {
   "cell_type": "code",
   "execution_count": 44,
   "id": "d0d5e32b-b02d-4e6e-8329-aba7fff3f264",
   "metadata": {},
   "outputs": [
    {
     "name": "stdout",
     "output_type": "stream",
     "text": [
      "name is: Ashraf Ahmad\n"
     ]
    }
   ],
   "source": [
    "first_name= \"Ahmad\"\n",
    "second_name= \"Ashraf\"\n",
    "print(\"name is: \" + second_name +\" \"+first_name)\n"
   ]
  },
  {
   "cell_type": "code",
   "execution_count": 47,
   "id": "68fe885b-1021-47e7-a24e-57a8b62df5be",
   "metadata": {},
   "outputs": [
    {
     "name": "stdout",
     "output_type": "stream",
     "text": [
      "area of a circle of radius1.1is: 3.7994000000000008\n"
     ]
    }
   ],
   "source": [
    "r=1.1\n",
    "area=3.14*r**2\n",
    "print(\"area of a circle of radius\" + str(r) + \"is: \" + str(area))"
   ]
  },
  {
   "cell_type": "code",
   "execution_count": 50,
   "id": "d57da106-0061-4466-8d4b-204fbbfe93da",
   "metadata": {},
   "outputs": [
    {
     "name": "stdout",
     "output_type": "stream",
     "text": [
      "File extension is: docx\n"
     ]
    }
   ],
   "source": [
    "filename = 'assignment.docx'\n",
    "f_extension = filename.split(\".\")\n",
    "print(\"File extension is: \" + f_extension[-1])"
   ]
  },
  {
   "cell_type": "code",
   "execution_count": 55,
   "id": "0d2b38f3-425a-4d10-8e81-386c60207310",
   "metadata": {},
   "outputs": [
    {
     "name": "stdout",
     "output_type": "stream",
     "text": [
      "List:  ['A', 'm', 'i', 't']\n",
      "Tuple:  ('A', 'm', 'i', 't')\n",
      "['A', 'm', 'i', 'D']\n",
      "AmiD\n"
     ]
    }
   ],
   "source": [
    "values=\"Amit\"\n",
    "tuple1= tuple(values)\n",
    "list1 = list(values)\n",
    "print(\"List: \",list1)\n",
    "print(\"Tuple: \",tuple1)\n",
    "list1[3]=\"D\"\n",
    "print(list1)\n",
    "x=\"\".join(list1)\n",
    "print(x)"
   ]
  },
  {
   "cell_type": "code",
   "execution_count": 65,
   "id": "5271246f-c482-461d-b7df-c52a3029c9a6",
   "metadata": {},
   "outputs": [
    {
     "name": "stdout",
     "output_type": "stream",
     "text": [
      "Red Black\n"
     ]
    }
   ],
   "source": [
    "color_list = [\"Red\",\"Green\",\"Blue\",\"Black\"]\n",
    "print(color_list[0],color_list[3])"
   ]
  },
  {
   "cell_type": "code",
   "execution_count": 66,
   "id": "485ba5b1-7400-426e-88d1-be33bf7ac0ae",
   "metadata": {},
   "outputs": [
    {
     "name": "stdout",
     "output_type": "stream",
     "text": [
      "True\n",
      "True\n"
     ]
    }
   ],
   "source": [
    "x = 'https://www.google.com/ '\n",
    "y = 'aimt4536@gmail.com'\n",
    "print(x.startswith(\"https\"))\n",
    "print(y.endswith(\".com\"))"
   ]
  },
  {
   "cell_type": "code",
   "execution_count": null,
   "id": "bcdd4bcc-b80a-47b4-836c-ea10e7685938",
   "metadata": {},
   "outputs": [],
   "source": []
  }
 ],
 "metadata": {
  "kernelspec": {
   "display_name": "Python 3 (ipykernel)",
   "language": "python",
   "name": "python3"
  },
  "language_info": {
   "codemirror_mode": {
    "name": "ipython",
    "version": 3
   },
   "file_extension": ".py",
   "mimetype": "text/x-python",
   "name": "python",
   "nbconvert_exporter": "python",
   "pygments_lexer": "ipython3",
   "version": "3.11.7"
  }
 },
 "nbformat": 4,
 "nbformat_minor": 5
}
